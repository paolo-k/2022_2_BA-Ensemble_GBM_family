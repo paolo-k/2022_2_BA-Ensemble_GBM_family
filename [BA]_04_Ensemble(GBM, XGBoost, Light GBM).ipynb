{
 "cells": [
  {
   "cell_type": "markdown",
   "id": "8573ae58",
   "metadata": {},
   "source": [
    "## GBM Family"
   ]
  },
  {
   "cell_type": "markdown",
   "id": "c3ee4008",
   "metadata": {},
   "source": [
    "### 1. Ready to analysis"
   ]
  },
  {
   "cell_type": "markdown",
   "id": "5981f033",
   "metadata": {},
   "source": [
    "#### 1) Import packages"
   ]
  },
  {
   "cell_type": "code",
   "execution_count": 1,
   "id": "18eaaef5",
   "metadata": {},
   "outputs": [],
   "source": [
    "import pandas as pd\n",
    "import numpy as np\n",
    "import matplotlib.pyplot as plt\n",
    "import timeit\n",
    "\n",
    "from sklearn.decomposition import PCA\n",
    "from sklearn.datasets import load_breast_cancer\n",
    "from sklearn.model_selection import train_test_split, GridSearchCV\n",
    "from sklearn.metrics import confusion_matrix, plot_confusion_matrix, classification_report\n",
    "from sklearn.ensemble import GradientBoostingClassifier\n",
    "from sklearn.model_selection import train_test_split\n",
    "from sklearn.datasets import load_iris\n",
    "from xgboost import plot_importance\n",
    "from xgboost import XGBClassifier\n",
    "from lightgbm import LGBMClassifier, plot_importance\n",
    "\n",
    "from datetime import datetime\n",
    "\n",
    "from tqdm import tqdm\n",
    "\n",
    "import warnings\n",
    "warnings.filterwarnings(action='ignore')"
   ]
  },
  {
   "cell_type": "markdown",
   "id": "951e4058",
   "metadata": {},
   "source": [
    "#### 2) Load dataset"
   ]
  },
  {
   "cell_type": "code",
   "execution_count": 2,
   "id": "8951ae37",
   "metadata": {},
   "outputs": [
    {
     "data": {
      "text/plain": [
       "['DESCR',\n",
       " 'data',\n",
       " 'feature_names',\n",
       " 'filename',\n",
       " 'frame',\n",
       " 'target',\n",
       " 'target_names']"
      ]
     },
     "execution_count": 2,
     "metadata": {},
     "output_type": "execute_result"
    }
   ],
   "source": [
    "iris=load_iris()\n",
    "dir(iris)"
   ]
  },
  {
   "cell_type": "code",
   "execution_count": 3,
   "id": "899a986f",
   "metadata": {},
   "outputs": [
    {
     "name": "stdout",
     "output_type": "stream",
     "text": [
      "(150, 5)\n"
     ]
    },
    {
     "data": {
      "text/html": [
       "<div>\n",
       "<style scoped>\n",
       "    .dataframe tbody tr th:only-of-type {\n",
       "        vertical-align: middle;\n",
       "    }\n",
       "\n",
       "    .dataframe tbody tr th {\n",
       "        vertical-align: top;\n",
       "    }\n",
       "\n",
       "    .dataframe thead th {\n",
       "        text-align: right;\n",
       "    }\n",
       "</style>\n",
       "<table border=\"1\" class=\"dataframe\">\n",
       "  <thead>\n",
       "    <tr style=\"text-align: right;\">\n",
       "      <th></th>\n",
       "      <th>sepal length (cm)</th>\n",
       "      <th>sepal width (cm)</th>\n",
       "      <th>petal length (cm)</th>\n",
       "      <th>petal width (cm)</th>\n",
       "      <th>class</th>\n",
       "    </tr>\n",
       "  </thead>\n",
       "  <tbody>\n",
       "    <tr>\n",
       "      <th>0</th>\n",
       "      <td>5.1</td>\n",
       "      <td>3.5</td>\n",
       "      <td>1.4</td>\n",
       "      <td>0.2</td>\n",
       "      <td>0</td>\n",
       "    </tr>\n",
       "    <tr>\n",
       "      <th>1</th>\n",
       "      <td>4.9</td>\n",
       "      <td>3.0</td>\n",
       "      <td>1.4</td>\n",
       "      <td>0.2</td>\n",
       "      <td>0</td>\n",
       "    </tr>\n",
       "    <tr>\n",
       "      <th>2</th>\n",
       "      <td>4.7</td>\n",
       "      <td>3.2</td>\n",
       "      <td>1.3</td>\n",
       "      <td>0.2</td>\n",
       "      <td>0</td>\n",
       "    </tr>\n",
       "    <tr>\n",
       "      <th>3</th>\n",
       "      <td>4.6</td>\n",
       "      <td>3.1</td>\n",
       "      <td>1.5</td>\n",
       "      <td>0.2</td>\n",
       "      <td>0</td>\n",
       "    </tr>\n",
       "    <tr>\n",
       "      <th>4</th>\n",
       "      <td>5.0</td>\n",
       "      <td>3.6</td>\n",
       "      <td>1.4</td>\n",
       "      <td>0.2</td>\n",
       "      <td>0</td>\n",
       "    </tr>\n",
       "    <tr>\n",
       "      <th>...</th>\n",
       "      <td>...</td>\n",
       "      <td>...</td>\n",
       "      <td>...</td>\n",
       "      <td>...</td>\n",
       "      <td>...</td>\n",
       "    </tr>\n",
       "    <tr>\n",
       "      <th>145</th>\n",
       "      <td>6.7</td>\n",
       "      <td>3.0</td>\n",
       "      <td>5.2</td>\n",
       "      <td>2.3</td>\n",
       "      <td>2</td>\n",
       "    </tr>\n",
       "    <tr>\n",
       "      <th>146</th>\n",
       "      <td>6.3</td>\n",
       "      <td>2.5</td>\n",
       "      <td>5.0</td>\n",
       "      <td>1.9</td>\n",
       "      <td>2</td>\n",
       "    </tr>\n",
       "    <tr>\n",
       "      <th>147</th>\n",
       "      <td>6.5</td>\n",
       "      <td>3.0</td>\n",
       "      <td>5.2</td>\n",
       "      <td>2.0</td>\n",
       "      <td>2</td>\n",
       "    </tr>\n",
       "    <tr>\n",
       "      <th>148</th>\n",
       "      <td>6.2</td>\n",
       "      <td>3.4</td>\n",
       "      <td>5.4</td>\n",
       "      <td>2.3</td>\n",
       "      <td>2</td>\n",
       "    </tr>\n",
       "    <tr>\n",
       "      <th>149</th>\n",
       "      <td>5.9</td>\n",
       "      <td>3.0</td>\n",
       "      <td>5.1</td>\n",
       "      <td>1.8</td>\n",
       "      <td>2</td>\n",
       "    </tr>\n",
       "  </tbody>\n",
       "</table>\n",
       "<p>150 rows × 5 columns</p>\n",
       "</div>"
      ],
      "text/plain": [
       "     sepal length (cm)  sepal width (cm)  petal length (cm)  petal width (cm)  \\\n",
       "0                  5.1               3.5                1.4               0.2   \n",
       "1                  4.9               3.0                1.4               0.2   \n",
       "2                  4.7               3.2                1.3               0.2   \n",
       "3                  4.6               3.1                1.5               0.2   \n",
       "4                  5.0               3.6                1.4               0.2   \n",
       "..                 ...               ...                ...               ...   \n",
       "145                6.7               3.0                5.2               2.3   \n",
       "146                6.3               2.5                5.0               1.9   \n",
       "147                6.5               3.0                5.2               2.0   \n",
       "148                6.2               3.4                5.4               2.3   \n",
       "149                5.9               3.0                5.1               1.8   \n",
       "\n",
       "     class  \n",
       "0        0  \n",
       "1        0  \n",
       "2        0  \n",
       "3        0  \n",
       "4        0  \n",
       "..     ...  \n",
       "145      2  \n",
       "146      2  \n",
       "147      2  \n",
       "148      2  \n",
       "149      2  \n",
       "\n",
       "[150 rows x 5 columns]"
      ]
     },
     "execution_count": 3,
     "metadata": {},
     "output_type": "execute_result"
    }
   ],
   "source": [
    "X = pd.DataFrame(iris.data, columns=iris.feature_names)\n",
    "y = pd.DataFrame(iris.target, columns=[\"class\"])\n",
    "df = pd.concat([X, y], axis=1)\n",
    "print(df.shape)\n",
    "df"
   ]
  },
  {
   "cell_type": "markdown",
   "id": "35b81615",
   "metadata": {},
   "source": [
    "#### 3) EDA & Pre-process"
   ]
  },
  {
   "cell_type": "code",
   "execution_count": 4,
   "id": "cf085aff",
   "metadata": {},
   "outputs": [
    {
     "data": {
      "text/plain": [
       "class\n",
       "0        50\n",
       "1        50\n",
       "2        50\n",
       "dtype: int64"
      ]
     },
     "execution_count": 4,
     "metadata": {},
     "output_type": "execute_result"
    }
   ],
   "source": [
    "y.value_counts()"
   ]
  },
  {
   "cell_type": "code",
   "execution_count": 5,
   "id": "7fcc5364",
   "metadata": {},
   "outputs": [
    {
     "data": {
      "text/plain": [
       "(150, 3)"
      ]
     },
     "execution_count": 5,
     "metadata": {},
     "output_type": "execute_result"
    }
   ],
   "source": [
    "pca = PCA(n_components=3)\n",
    "X_pca = pca.fit_transform(X)\n",
    "X_pca.shape"
   ]
  },
  {
   "cell_type": "code",
   "execution_count": 6,
   "id": "3ef6f73f",
   "metadata": {
    "scrolled": false
   },
   "outputs": [
    {
     "name": "stdout",
     "output_type": "stream",
     "text": [
      "(3, 50)\n",
      "(3, 50)\n",
      "(3, 50)\n"
     ]
    },
    {
     "data": {
      "image/png": "[encoded data removed]",
      "text/plain": [
       "<Figure size 1080x576 with 1 Axes>"
      ]
     },
     "metadata": {
      "needs_background": "light"
     },
     "output_type": "display_data"
    }
   ],
   "source": [
    "index_0 = df[df['class'] == 0].index\n",
    "index_1 = df[df['class'] == 1].index\n",
    "index_2 = df[df['class'] == 2].index\n",
    "\n",
    "X_pca_0 = np.array([X_pca[i] for i in index_0]).T\n",
    "X_pca_1 = np.array([X_pca[i] for i in index_1]).T\n",
    "X_pca_2 = np.array([X_pca[i] for i in index_2]).T\n",
    "\n",
    "print(X_pca_0.shape)\n",
    "print(X_pca_1.shape)\n",
    "print(X_pca_2.shape)\n",
    "\n",
    "\n",
    "\n",
    "plt.figure(figsize=(15,8))\n",
    "plt.scatter(X_pca_0[0], X_pca_0[1], label = 'class_0', c = 'r', s = 50)\n",
    "plt.scatter(X_pca_1[0], X_pca_1[1], label = 'class_1', c = 'g', s = 50)\n",
    "plt.scatter(X_pca_2[0], X_pca_2[1], label = 'class_2', c = 'b', s = 50)\n",
    "\n",
    "plt.legend(bbox_to_anchor = (1.0, 1), loc = 'upper left')\n",
    "\n",
    "plt.savefig('C:/Users/kw764/Desktop/튜토리얼이미지/dataset_distribution.png',\n",
    "            edgecolor='k', \n",
    "            format='png', \n",
    "            dpi=200)"
   ]
  },
  {
   "cell_type": "code",
   "execution_count": 7,
   "id": "24d9c97c",
   "metadata": {
    "scrolled": false
   },
   "outputs": [
    {
     "name": "stdout",
     "output_type": "stream",
     "text": [
      "<class 'pandas.core.frame.DataFrame'>\n",
      "RangeIndex: 150 entries, 0 to 149\n",
      "Data columns (total 5 columns):\n",
      " #   Column             Non-Null Count  Dtype  \n",
      "---  ------             --------------  -----  \n",
      " 0   sepal length (cm)  150 non-null    float64\n",
      " 1   sepal width (cm)   150 non-null    float64\n",
      " 2   petal length (cm)  150 non-null    float64\n",
      " 3   petal width (cm)   150 non-null    float64\n",
      " 4   class              150 non-null    int32  \n",
      "dtypes: float64(4), int32(1)\n",
      "memory usage: 5.4 KB\n"
     ]
    }
   ],
   "source": [
    "df.info()"
   ]
  },
  {
   "cell_type": "code",
   "execution_count": 8,
   "id": "9a6ac305",
   "metadata": {},
   "outputs": [
    {
     "name": "stdout",
     "output_type": "stream",
     "text": [
      "(90, 4)\n",
      "class\n",
      "0        31\n",
      "2        30\n",
      "1        29\n",
      "dtype: int64\n",
      "(30, 4)\n",
      "class\n",
      "1        11\n",
      "2        10\n",
      "0         9\n",
      "dtype: int64\n",
      "(30, 4)\n",
      "class\n",
      "0        10\n",
      "1        10\n",
      "2        10\n",
      "dtype: int64\n"
     ]
    }
   ],
   "source": [
    "# split train & validate & test set\n",
    "\n",
    "X_tr, X_tmp, y_tr, y_tmp = train_test_split(X, y, test_size = 0.4, random_state=1)\n",
    "X_val, X_te, y_val, y_te = train_test_split(X_tmp, y_tmp, test_size = 0.5, random_state=1)\n",
    "\n",
    "print(X_tr.shape)\n",
    "print(y_tr.value_counts())\n",
    "print(X_val.shape)\n",
    "print(y_val.value_counts())\n",
    "print(X_te.shape)\n",
    "print(y_te.value_counts())"
   ]
  },
  {
   "cell_type": "markdown",
   "id": "00e713be",
   "metadata": {},
   "source": [
    "### 2. Main analysis"
   ]
  },
  {
   "cell_type": "markdown",
   "id": "4d7214ae",
   "metadata": {},
   "source": [
    "#### 1) Gradient Boost Machine"
   ]
  },
  {
   "cell_type": "code",
   "execution_count": 9,
   "id": "fcfeffaf",
   "metadata": {},
   "outputs": [
    {
     "name": "stdout",
     "output_type": "stream",
     "text": [
      "Fitting 5 folds for each of 125 candidates, totalling 625 fits\n",
      "hyperparameter :  {'learning_rate': 0.01, 'max_depth': 1, 'n_estimators': 100}\n",
      "---Confusion Matrix---\n",
      "[[10  0  0]\n",
      " [ 0 10  0]\n",
      " [ 0  1  9]]\n",
      " \n",
      "---Index for Evaluation---\n",
      "              precision    recall  f1-score   support\n",
      "\n",
      "           0       1.00      1.00      1.00        10\n",
      "           1       0.91      1.00      0.95        10\n",
      "           2       1.00      0.90      0.95        10\n",
      "\n",
      "    accuracy                           0.97        30\n",
      "   macro avg       0.97      0.97      0.97        30\n",
      "weighted avg       0.97      0.97      0.97        30\n",
      "\n",
      "processing time 0:00:31\n"
     ]
    }
   ],
   "source": [
    "start_time = datetime.now().replace(microsecond=0)\n",
    "\n",
    "\n",
    "gbm = GradientBoostingClassifier()\n",
    "\n",
    "gbm.fit(X_tr, y_tr)\n",
    "gbm_params = {\n",
    "    'n_estimators' : [100, 200, 300 ,400, 500], \n",
    "    'learning_rate' : [0.01, 0.05, 0.1, 0.15, 0.2], \n",
    "    'max_depth' : [1, 2, 3, 4, 5]\n",
    "}\n",
    "\n",
    "gbm_search = GridSearchCV(gbm, param_grid = gbm_params, scoring=\"accuracy\", n_jobs= -1, verbose = 1)\n",
    "gbm_search.fit(X_val, y_val)\n",
    "print(\"hyperparameter : \", gbm_search.best_params_)\n",
    "\n",
    "gbm_tune = GradientBoostingClassifier(n_estimators=100, learning_rate = 0.01, max_depth = 1, random_state = 333)\n",
    "gbm_tune.fit(X_tr, y_tr)\n",
    "\n",
    "gbm_pred = gbm_tune.predict(X_te)\n",
    "print(\"---Confusion Matrix---\")\n",
    "print(confusion_matrix(y_te, gbm_pred))\n",
    "print(\" \")\n",
    "print(\"---Index for Evaluation---\")\n",
    "print(classification_report(y_te, gbm_pred))\n",
    "\n",
    "end_time = datetime.now().replace(microsecond=0)\n",
    "print(f\"processing time {end_time - start_time}\")"
   ]
  },
  {
   "cell_type": "markdown",
   "id": "eb3e6349",
   "metadata": {},
   "source": [
    "#### 2) eXtreme Gradient Boost"
   ]
  },
  {
   "cell_type": "code",
   "execution_count": 10,
   "id": "b893a9fa",
   "metadata": {},
   "outputs": [
    {
     "name": "stdout",
     "output_type": "stream",
     "text": [
      "Fitting 5 folds for each of 125 candidates, totalling 625 fits\n",
      "hyperparameter :  {'learning_rate': 0.01, 'max_depth': 1, 'n_estimators': 100}\n",
      "---Confusion Matrix---\n",
      "[[10  0  0]\n",
      " [ 0 10  0]\n",
      " [ 0  1  9]]\n",
      " \n",
      "---Index for Evaluation---\n",
      "              precision    recall  f1-score   support\n",
      "\n",
      "           0       1.00      1.00      1.00        10\n",
      "           1       0.91      1.00      0.95        10\n",
      "           2       1.00      0.90      0.95        10\n",
      "\n",
      "    accuracy                           0.97        30\n",
      "   macro avg       0.97      0.97      0.97        30\n",
      "weighted avg       0.97      0.97      0.97        30\n",
      "\n",
      "processing time 0:00:06\n"
     ]
    }
   ],
   "source": [
    "start_time = datetime.now().replace(microsecond=0)\n",
    "\n",
    "\n",
    "xgb = XGBClassifier()\n",
    "\n",
    "xgb.fit(X_tr, y_tr)\n",
    "xgb_params = {\n",
    "    'n_estimators' : [100, 200, 300 ,400, 500], \n",
    "    'learning_rate' : [0.01, 0.05, 0.1, 0.15, 0.2], \n",
    "    'max_depth' : [1, 2, 3, 4, 5]\n",
    "}\n",
    "\n",
    "xgb_search = GridSearchCV(xgb, param_grid = xgb_params, scoring=\"accuracy\", n_jobs= -1, verbose = 1)\n",
    "xgb_search.fit(X_val, y_val)\n",
    "print(\"hyperparameter : \", xgb_search.best_params_)\n",
    "\n",
    "xgb_tune = GradientBoostingClassifier(n_estimators=100, learning_rate = 0.01, max_depth = 1, random_state = 333)\n",
    "xgb_tune.fit(X_tr, y_tr)\n",
    "\n",
    "xgb_pred = xgb_tune.predict(X_te)\n",
    "print(\"---Confusion Matrix---\")\n",
    "print(confusion_matrix(y_te, xgb_pred))\n",
    "print(\" \")\n",
    "print(\"---Index for Evaluation---\")\n",
    "print(classification_report(y_te, xgb_pred))\n",
    "\n",
    "end_time = datetime.now().replace(microsecond=0)\n",
    "print(f\"processing time {end_time - start_time}\")"
   ]
  },
  {
   "cell_type": "markdown",
   "id": "414f3d22",
   "metadata": {},
   "source": [
    "#### 3) Light GBM"
   ]
  },
  {
   "cell_type": "code",
   "execution_count": 11,
   "id": "91806753",
   "metadata": {},
   "outputs": [
    {
     "name": "stdout",
     "output_type": "stream",
     "text": [
      "Fitting 5 folds for each of 125 candidates, totalling 625 fits\n",
      "hyperparameter :  {'learning_rate': 0.01, 'max_depth': 1, 'n_estimators': 100}\n",
      "---Confusion Matrix---\n",
      "[[10  0  0]\n",
      " [ 0 10  0]\n",
      " [ 0  1  9]]\n",
      " \n",
      "---Index for Evaluation---\n",
      "              precision    recall  f1-score   support\n",
      "\n",
      "           0       1.00      1.00      1.00        10\n",
      "           1       0.91      1.00      0.95        10\n",
      "           2       1.00      0.90      0.95        10\n",
      "\n",
      "    accuracy                           0.97        30\n",
      "   macro avg       0.97      0.97      0.97        30\n",
      "weighted avg       0.97      0.97      0.97        30\n",
      "\n",
      "processing time 0:00:02\n"
     ]
    }
   ],
   "source": [
    "start_time = datetime.now().replace(microsecond=0)\n",
    "\n",
    "\n",
    "lgb = LGBMClassifier()\n",
    "\n",
    "lgb.fit(X_tr, y_tr)\n",
    "lgb_params = {\n",
    "    'n_estimators' : [100, 200, 300 ,400, 500], \n",
    "    'learning_rate' : [0.01, 0.05, 0.1, 0.15, 0.2], \n",
    "    'max_depth' : [1, 2, 3, 4, 5]\n",
    "}\n",
    "\n",
    "lgb_search = GridSearchCV(lgb, param_grid = lgb_params, scoring=\"accuracy\", n_jobs= -1, verbose = 1)\n",
    "lgb_search.fit(X_val, y_val)\n",
    "print(\"hyperparameter : \", lgb_search.best_params_)\n",
    "\n",
    "lgb_tune = GradientBoostingClassifier(n_estimators=100, learning_rate = 0.01, max_depth = 1, random_state = 333)\n",
    "lgb_tune.fit(X_tr, y_tr)\n",
    "\n",
    "lgb_pred = lgb_tune.predict(X_te)\n",
    "print(\"---Confusion Matrix---\")\n",
    "print(confusion_matrix(y_te, lgb_pred))\n",
    "print(\" \")\n",
    "print(\"---Index for Evaluation---\")\n",
    "print(classification_report(y_te, lgb_pred))\n",
    "\n",
    "end_time = datetime.now().replace(microsecond=0)\n",
    "print(f\"processing time {end_time - start_time}\")"
   ]
  }
 ],
 "metadata": {
  "kernelspec": {
   "display_name": "Python 3 (ipykernel)",
   "language": "python",
   "name": "python3"
  },
  "language_info": {
   "codemirror_mode": {
    "name": "ipython",
    "version": 3
   },
   "file_extension": ".py",
   "mimetype": "text/x-python",
   "name": "python",
   "nbconvert_exporter": "python",
   "pygments_lexer": "ipython3",
   "version": "3.9.7"
  }
 },
 "nbformat": 4,
 "nbformat_minor": 5
}
